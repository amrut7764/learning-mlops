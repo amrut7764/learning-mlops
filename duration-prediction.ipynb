{
 "cells": [
  {
   "cell_type": "markdown",
   "id": "bdc7af68",
   "metadata": {},
   "source": [
    "# New York Taxi - Predict Duration based on Pickup and Dropoff"
   ]
  },
  {
   "cell_type": "code",
   "execution_count": 53,
   "id": "988dc056-a216-42fc-9cec-3c792d994874",
   "metadata": {},
   "outputs": [],
   "source": [
    "import pandas as pd\n",
    "import numpy as np\n",
    "import seaborn as sns\n",
    "from matplotlib import pyplot as plt\n",
    "from sklearn.feature_extraction import DictVectorizer\n",
    "from sklearn.linear_model import LinearRegression, Lasso, Ridge, ElasticNet\n",
    "from sklearn.metrics import root_mean_squared_error"
   ]
  },
  {
   "cell_type": "code",
   "execution_count": 22,
   "id": "1834b16b-500f-4d06-9825-90fadf941c72",
   "metadata": {},
   "outputs": [],
   "source": [
    "# Set options for the pandas\n",
    "pd.options.display.float_format = '{:.3f}'.format"
   ]
  },
  {
   "cell_type": "code",
   "execution_count": 23,
   "id": "19438079-4b8b-4fed-bc12-56fe61660277",
   "metadata": {},
   "outputs": [],
   "source": [
    "# Read the data source and return the pandas DataFrame\n",
    "def read_datasource(filename) -> pd.DataFrame:\n",
    "    # Read the data file \n",
    "    df = pd.read_parquet(filename)\n",
    "\n",
    "    # Calculate the duration of the taxi using the pickup time and dropoff time\n",
    "    duration = df['lpep_dropoff_datetime'] - df['lpep_pickup_datetime']\n",
    "    df['duration'] = duration\n",
    "    \n",
    "    # Convert the datetime, to numeric value in minutes\n",
    "    df.duration = df.duration.apply(lambda td: td.total_seconds()/60)\n",
    "\n",
    "    # Filter the data that gives taxi duration between 1 min to 60 mins\n",
    "    filter_duration = (df.duration > 1) & (df.duration < 60)\n",
    "    df = df[filter_duration]\n",
    "\n",
    "    # Create Categorical column\n",
    "    categorical = [\"PULocationID\", \"DOLocationID\"]\n",
    "    df[categorical] = df[categorical].astype(str)\n",
    "\n",
    "    return df"
   ]
  },
  {
   "cell_type": "code",
   "execution_count": null,
   "id": "21212af2",
   "metadata": {},
   "outputs": [],
   "source": [
    "# From the given DataFrame create a train or validation data (X_train and X_val) along with target data (y_train or y_val)\n",
    "\n",
    "def create_train_or_validation_data(df_train: pd.DataFrame, df_val:pd.DataFrame) -> tuple[DictVectorizer, np.ndarray, DictVectorizer, np.ndarray]:\n",
    "    \n",
    "    # Create a categorical data based on the Pickup and Dropoff location ID and a numneric feature based on the trip duration.\n",
    "    categorical = [\"PULocationID\", \"DOLocationID\"]\n",
    "    numerical = [\"trip_distance\"]\n",
    "\n",
    "    # Transforms lists of feature values to vectors \n",
    "    dv = DictVectorizer()\n",
    "\n",
    "    # If the operation is train then \n",
    "    train_dicts = df_train[categorical + numerical].to_dict(orient='records')\n",
    "    X_train = dv.fit_transform(train_dicts)\n",
    "    \n",
    "    # If the operation is validation\n",
    "    val_dicts = df_val[categorical + numerical].to_dict(orient='records')\n",
    "    X_val = dv.transform(val_dicts)\n",
    "\n",
    "    # prepare the y from the values of the target (trip_duration in this case)\n",
    "    target = 'duration'\n",
    "    y_train = df_train[target].values\n",
    "    y_val = df_val[target].values\n",
    "    \n",
    "    return (X_train, y_train, X_val, y_val)"
   ]
  },
  {
   "cell_type": "markdown",
   "id": "149d6038",
   "metadata": {},
   "source": [
    "#### New York Green Taxi, predict the trip duration"
   ]
  },
  {
   "cell_type": "code",
   "execution_count": 28,
   "id": "8b7b8ac2",
   "metadata": {},
   "outputs": [],
   "source": [
    "# Create a train data for Green Taxi New York with January Data\n",
    "\n",
    "df_train = read_datasource(\"https://d37ci6vzurychx.cloudfront.net/trip-data/green_tripdata_2023-01.parquet\")\n",
    "df_val = read_datasource(\"https://d37ci6vzurychx.cloudfront.net/trip-data/green_tripdata_2023-02.parquet\")\n",
    "\n",
    "X_train, y_train, X_val, y_val = create_train_or_validation_data(df_train, df_val)"
   ]
  },
  {
   "cell_type": "markdown",
   "id": "5ea55221",
   "metadata": {},
   "source": [
    "### Running Machine learning models on the data to train and validate predictions"
   ]
  },
  {
   "cell_type": "markdown",
   "id": "32efbbb9",
   "metadata": {},
   "source": [
    "#### Linear Regression model"
   ]
  },
  {
   "cell_type": "code",
   "execution_count": null,
   "id": "e6434b62",
   "metadata": {},
   "outputs": [],
   "source": [
    "# With the training data lets run the linear regression to train our model\n",
    "lin_reg = LinearRegression()\n",
    "lin_reg.fit(X_train, y_train)\n",
    "\n",
    "# Predict the values for this model using validation data\n",
    "y_predict_lin = lin_reg.predict(X_val)\n",
    "\n",
    "# Calculate the root mean squared error regression loss\n",
    "rmse = root_mean_squared_error(y_val, y_predict_lin)\n",
    "\n",
    "print(f\"The Root Mean Squared Error Regression Loss is {rmse}\")"
   ]
  },
  {
   "cell_type": "markdown",
   "id": "e3ce8889",
   "metadata": {},
   "source": [
    "### Lasso Regression"
   ]
  },
  {
   "cell_type": "code",
   "execution_count": null,
   "id": "fe05248d",
   "metadata": {},
   "outputs": [],
   "source": [
    "# With the Training data lets run the Lasso regression to train our model\n",
    "lasso = Lasso()\n",
    "lasso.fit(X_train, y_train)\n",
    "\n",
    "y_predict_lasso = lasso.predict(X_val)\n",
    "\n",
    "rmse_lasso = root_mean_squared_error(y_val, y_predict_lasso)\n",
    "print(f\"The Root Mean Squared Error Regression Loss is {rmse_lasso}\")"
   ]
  },
  {
   "cell_type": "markdown",
   "id": "ee0580f4",
   "metadata": {},
   "source": [
    "### Ridge Regression"
   ]
  },
  {
   "cell_type": "code",
   "execution_count": null,
   "id": "5463f021",
   "metadata": {},
   "outputs": [],
   "source": [
    "# With the training Data lets run Ridge regression\n",
    "\n",
    "ridge = Ridge()\n",
    "\n",
    "ridge.fit(X_train, y_train)\n",
    "\n",
    "y_predict_ridge = ridge.predict(X_val)\n",
    "\n",
    "rmse_ridge = root_mean_squared_error(y_val, y_predict_ridge)\n",
    "\n",
    "print(f\"The Root Mean Squared Error Regression Loss is {rmse_ridge}\")"
   ]
  },
  {
   "cell_type": "markdown",
   "id": "8f7e50a2",
   "metadata": {},
   "source": [
    "### ElasticNet Regression"
   ]
  },
  {
   "cell_type": "code",
   "execution_count": null,
   "id": "b6dc0989",
   "metadata": {},
   "outputs": [],
   "source": [
    "# ElasticNet Features\n",
    "\n",
    "elastic = ElasticNet()\n",
    "\n",
    "elastic.fit(X_train, y_train)\n",
    "\n",
    "y_predict_elastic = elastic.predict(X_val)\n",
    "\n",
    "rmse_elastic = root_mean_squared_error(y_val, y_predict_elastic)\n",
    "\n",
    "print(f\"The Root Mean Squared Error Regression Loss is {rmse_elastic}\")\n"
   ]
  }
 ],
 "metadata": {
  "kernelspec": {
   "display_name": "mlops",
   "language": "python",
   "name": "python3"
  },
  "language_info": {
   "codemirror_mode": {
    "name": "ipython",
    "version": 3
   },
   "file_extension": ".py",
   "mimetype": "text/x-python",
   "name": "python",
   "nbconvert_exporter": "python",
   "pygments_lexer": "ipython3",
   "version": "3.12.7"
  }
 },
 "nbformat": 4,
 "nbformat_minor": 5
}
