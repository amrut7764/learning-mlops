{
 "cells": [
  {
   "cell_type": "code",
   "execution_count": 1,
   "id": "857e6b4a",
   "metadata": {},
   "outputs": [],
   "source": [
    "import pandas as pd\n",
    "import seaborn as sns\n",
    "import matplotlib.pyplot as plt\n",
    "from sklearn.feature_extraction import DictVectorizer \n",
    "from sklearn.linear_model import LinearRegression\n",
    "from sklearn.metrics import root_mean_squared_error"
   ]
  },
  {
   "cell_type": "code",
   "execution_count": 2,
   "id": "0aeb77f1",
   "metadata": {},
   "outputs": [],
   "source": [
    "pd.options.display.float_format = '{:.3f}'.format"
   ]
  },
  {
   "cell_type": "code",
   "execution_count": 3,
   "id": "f4779752",
   "metadata": {},
   "outputs": [],
   "source": [
    "def read_from_datasource(filename):\n",
    "    df = pd.read_parquet(filename)\n",
    "    \n",
    "    duration = df['tpep_dropoff_datetime'] - df['tpep_pickup_datetime']\n",
    "    df['duration'] = duration\n",
    "    df.duration = df.duration.apply(lambda td: td.total_seconds()/60)\n",
    "\n",
    "    # df.duration.describe(percentiles=[0.95, 0.98, 0.99])\n",
    "\n",
    "    filter_duration = (df.duration > 1) & (df.duration < 60)\n",
    "    df = df[filter_duration]\n",
    "\n",
    "    categorical = [\"PULocationID\", \"DOLocationID\"]\n",
    "    df[categorical] = df[categorical].astype(str)\n",
    "\n",
    "    # sns.displot(df.duration)\n",
    "    return df\n"
   ]
  },
  {
   "cell_type": "code",
   "execution_count": 4,
   "id": "8fe95774",
   "metadata": {},
   "outputs": [],
   "source": [
    "    \n",
    "def create_train_data(df_train, df_val):\n",
    "    \n",
    "    # categorical = [\"PU_DO\"]\n",
    "    categorical = [\"PULocationID\", \"DOLocationID\"]\n",
    "    numerical = [\"trip_distance\"]\n",
    "\n",
    "    dv = DictVectorizer()\n",
    "\n",
    "    train_dicts = df_train[categorical + numerical].to_dict(orient='records')\n",
    "    X_train = dv.fit_transform(train_dicts)\n",
    "\n",
    "    val_dicts = df_val[categorical + numerical].to_dict(orient='records')\n",
    "    X_val = dv.transform(val_dicts)\n",
    "\n",
    "    return (X_train, X_val)"
   ]
  },
  {
   "cell_type": "markdown",
   "id": "7f0750ad",
   "metadata": {},
   "source": [
    "## HomeWork"
   ]
  },
  {
   "cell_type": "markdown",
   "id": "a4d2cf65",
   "metadata": {},
   "source": [
    "Q1. Downloading the data\n",
    "We'll use the same NYC taxi dataset, but instead of \"Green Taxi Trip Records\", we'll use \"Yellow Taxi Trip Records\".\n",
    "\n",
    "Download the data for January and February 2023.\n",
    "\n",
    "Read the data for January. How many columns are there?"
   ]
  },
  {
   "cell_type": "code",
   "execution_count": null,
   "id": "e088ea57",
   "metadata": {},
   "outputs": [],
   "source": [
    "df_home_train = pd.read_parquet(\"https://d37ci6vzurychx.cloudfront.net/trip-data/yellow_tripdata_2023-01.parquet\")\n",
    "total_coumns = len(df_home_train.columns)\n",
    "print(f\"Total number of columns are {total_coumns}\")"
   ]
  },
  {
   "cell_type": "markdown",
   "id": "94b3f76b",
   "metadata": {},
   "source": [
    "Q2. Computing duration\n",
    "Now let's compute the duration variable. It should contain the duration of a ride in minutes.\n",
    "\n",
    "What's the standard deviation of the trips duration in January?"
   ]
  },
  {
   "cell_type": "code",
   "execution_count": null,
   "id": "8ab28fcc",
   "metadata": {},
   "outputs": [],
   "source": [
    "duration = df_home_train['tpep_dropoff_datetime'] - df_home_train['tpep_pickup_datetime']\n",
    "df_home_train['duration'] = duration\n",
    "\n",
    "standard_deviation_of_trip_duration = df_home_train['duration'].std()\n",
    "print(f\"The Standard Devation of trip duration in January 2023 is {standard_deviation_of_trip_duration}\")"
   ]
  },
  {
   "cell_type": "markdown",
   "id": "67a8a5c7",
   "metadata": {},
   "source": [
    "Q3. Dropping outliers\n",
    "Next, we need to check the distribution of the duration variable. There are some outliers. Let's remove them and keep only the records where the duration was between 1 and 60 minutes (inclusive).\n",
    "\n",
    "What fraction of the records left after you dropped the outliers?"
   ]
  },
  {
   "cell_type": "code",
   "execution_count": null,
   "id": "cb21094e",
   "metadata": {},
   "outputs": [],
   "source": [
    "original_records = len(df_home_train)\n",
    "\n",
    "df_home_train.duration = df_home_train.duration.apply(lambda td: td.total_seconds()/60)\n",
    "filter_duration = (df_home_train.duration > 1) & (df_home_train.duration < 60)\n",
    "df_home_train = df_home_train[filter_duration]\n",
    "\n",
    "new_records = len(df_home_train)\n",
    "fraction_remaining = new_records / original_records\n",
    "\n",
    "print(f\"Remaining fraction of records after dropping outliers are {fraction_remaining * 100}\")"
   ]
  },
  {
   "cell_type": "markdown",
   "id": "5690f591",
   "metadata": {},
   "source": [
    "Q4. One-hot encoding\n",
    "Let's apply one-hot encoding to the pickup and dropoff location IDs. We'll use only these two features for our model.\n",
    "\n",
    "Turn the dataframe into a list of dictionaries (remember to re-cast the ids to strings - otherwise it will label encode them)\n",
    "Fit a dictionary vectorizer\n",
    "Get a feature matrix from it\n",
    "What's the dimensionality of this matrix (number of columns)?"
   ]
  },
  {
   "cell_type": "code",
   "execution_count": null,
   "id": "a1b71272",
   "metadata": {},
   "outputs": [],
   "source": [
    "categorical = [\"PULocationID\", \"DOLocationID\"]\n",
    "numerical = [\"trip_distance\"]\n",
    "df_home_train[categorical] = df_home_train[categorical].astype(str)\n",
    "\n",
    "dv_home = DictVectorizer()\n",
    "\n",
    "train_home_dict = df_home_train[categorical + numerical].to_dict(orient='records')\n",
    "                                                       \n",
    "X_home_train = dv_home.fit_transform(train_home_dict)\n",
    "\n",
    "print(f\"The Dimensionality of the matrix (number of columns) is {X_home_train.shape[1]}\")\n"
   ]
  },
  {
   "cell_type": "markdown",
   "id": "e7e4cb84",
   "metadata": {},
   "source": [
    "Q5. Training a model\n",
    "Now let's use the feature matrix from the previous step to train a model.\n",
    "\n",
    "Train a plain linear regression model with default parameters, where duration is the response variable\n",
    "Calculate the RMSE of the model on the training data\n",
    "What's the RMSE on train?"
   ]
  },
  {
   "cell_type": "code",
   "execution_count": null,
   "id": "dc16930a",
   "metadata": {},
   "outputs": [],
   "source": [
    "\n",
    "y_home_train = df_home_train[\"duration\"].values\n",
    "\n",
    "lin_regression = LinearRegression()\n",
    "lin_regression.fit(X_home_train, y_home_train)\n",
    "\n",
    "y_home_predict = lin_regression.predict(X_home_train)\n",
    "\n",
    "rmse_home = root_mean_squared_error(y_home_train, y_home_predict)\n",
    "print(f'Root Mean Squared Error is {rmse_home}')"
   ]
  },
  {
   "cell_type": "markdown",
   "id": "f1f1df7d",
   "metadata": {},
   "source": [
    "Q6. Evaluating the model\n",
    "Now let's apply this model to the validation dataset (February 2023).\n",
    "\n",
    "What's the RMSE on validation?"
   ]
  },
  {
   "cell_type": "code",
   "execution_count": 15,
   "id": "c73f6cef",
   "metadata": {},
   "outputs": [],
   "source": [
    "df_home_val = read_from_datasource(\"https://d37ci6vzurychx.cloudfront.net/trip-data/yellow_tripdata_2023-02.parquet\")\n",
    "\n",
    "X_home_train, X_home_val = create_train_data(df_home_train, df_home_val)"
   ]
  },
  {
   "cell_type": "code",
   "execution_count": 16,
   "id": "a3c126f1",
   "metadata": {},
   "outputs": [],
   "source": [
    "target_home = \"duration\"\n",
    "y_home_train = df_home_train[\"duration\"].values\n",
    "\n",
    "y_home_val = df_home_val[\"duration\"].values"
   ]
  },
  {
   "cell_type": "code",
   "execution_count": null,
   "id": "41663651",
   "metadata": {},
   "outputs": [],
   "source": [
    "y_home_pred = lin_regression.predict(X_home_val)\n",
    "\n",
    "rmse_val = root_mean_squared_error(y_home_val, y_home_pred)\n",
    "print(f'Root Mean Squared Error is {rmse_val}')"
   ]
  }
 ],
 "metadata": {
  "kernelspec": {
   "display_name": "mlops",
   "language": "python",
   "name": "python3"
  },
  "language_info": {
   "codemirror_mode": {
    "name": "ipython",
    "version": 3
   },
   "file_extension": ".py",
   "mimetype": "text/x-python",
   "name": "python",
   "nbconvert_exporter": "python",
   "pygments_lexer": "ipython3",
   "version": "3.12.7"
  }
 },
 "nbformat": 4,
 "nbformat_minor": 5
}
